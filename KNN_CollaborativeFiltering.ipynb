{
  "cells": [
    {
      "cell_type": "markdown",
      "metadata": {
        "id": "view-in-github",
        "colab_type": "text"
      },
      "source": [
        "<a href=\"https://colab.research.google.com/github/Ly-xinhgai/recommendation-system-using-knn/blob/main/KNN_CollaborativeFiltering.ipynb\" target=\"_parent\"><img src=\"https://colab.research.google.com/assets/colab-badge.svg\" alt=\"Open In Colab\"/></a>"
      ]
    },
    {
      "cell_type": "markdown",
      "metadata": {
        "id": "9TC3Ka3Q4bwW"
      },
      "source": [
        "# 0.Xử lý dữ liệu\n",
        "mục tiêu đề ra là 1 dataframe chứa tên anime, anime_id, user_id, rating\n",
        "trong đó các anime sẽ là các anime có độ nổi tiếng lớn với cộng đồng member lớn (chỉ lấy khoảng 70%)\n",
        "\n",
        "bên cạnh đó chỉ lấy các anime chiếu trên tv hoặc movie chiếu rạp\n",
        "\n",
        "Các user có số lượng đánh giá ít sẽ được bỏ qua (<200)"
      ]
    },
    {
      "cell_type": "code",
      "execution_count": null,
      "metadata": {
        "colab": {
          "base_uri": "https://localhost:8080/"
        },
        "id": "CZl2QfZp4bXn",
        "outputId": "12f0ae00-cf0b-416a-d605-1b1e1de05b3b"
      },
      "outputs": [
        {
          "output_type": "stream",
          "name": "stdout",
          "text": [
            "Drive already mounted at /content/drive; to attempt to forcibly remount, call drive.mount(\"/content/drive\", force_remount=True).\n",
            "anime.csv  anime.gsheet  rating.csv\n",
            "       anime_id           name  user_id  user_rating  rating_normalized  \\\n",
            "11653         1   Cowboy Bebop      226            8           0.310709   \n",
            "11654         6         Trigun      226            8           0.310709   \n",
            "11655        20         Naruto      226            7          -0.689291   \n",
            "11656        25      Sunabouzu      226            6          -1.689291   \n",
            "11657        27  Trinity Blood      226            7          -0.689291   \n",
            "\n",
            "                                                   genre  average_rating  \\\n",
            "11653    Action, Adventure, Comedy, Drama, Sci-Fi, Space            8.82   \n",
            "11654                             Action, Comedy, Sci-Fi            8.32   \n",
            "11655  Action, Comedy, Martial Arts, Shounen, Super P...            7.81   \n",
            "11656  Action, Adventure, Comedy, Ecchi, Sci-Fi, Shounen            7.55   \n",
            "11657                      Action, Supernatural, Vampire            7.44   \n",
            "\n",
            "       members  \n",
            "11653   486824  \n",
            "11654   283069  \n",
            "11655   683297  \n",
            "11656    65516  \n",
            "11657   113791  \n",
            "Shape of final data: (409088, 8)\n"
          ]
        },
        {
          "output_type": "stream",
          "name": "stderr",
          "text": [
            "<ipython-input-26-8c7f4104c218>:43: SettingWithCopyWarning: \n",
            "A value is trying to be set on a copy of a slice from a DataFrame.\n",
            "Try using .loc[row_indexer,col_indexer] = value instead\n",
            "\n",
            "See the caveats in the documentation: https://pandas.pydata.org/pandas-docs/stable/user_guide/indexing.html#returning-a-view-versus-a-copy\n",
            "  filtered_merged_data['rating_normalized'] = filtered_merged_data.apply(\n"
          ]
        }
      ],
      "source": [
        "import pandas as pd\n",
        "from google.colab import drive\n",
        "# Kết nối Google Drive với Colab\n",
        "drive.mount('/content/drive')\n",
        "\n",
        "INPUT_DIR = '/content/drive/MyDrive/doan2/data/'\n",
        "!ls {INPUT_DIR}\n",
        "\n",
        "# Cấu hình đường dẫn\n",
        "data_path = INPUT_DIR\n",
        "\n",
        "\n",
        "\n",
        "# Đọc dữ liệu từ file CSV\n",
        "anime = pd.read_csv(INPUT_DIR + 'anime.csv')\n",
        "ratings = pd.read_csv(INPUT_DIR + 'rating.csv')\n",
        "\n",
        "# 1. Lọc anime theo điều kiện\n",
        "# Chỉ giữ các anime có type là TV hoặc Movie\n",
        "filtered_anime = anime[anime['type'].isin(['TV', 'Movie'])]\n",
        "\n",
        "# Chỉ giữ top 50% anime theo số lượng members\n",
        "threshold = filtered_anime['members'].quantile(0.5)\n",
        "filtered_anime = filtered_anime[filtered_anime['members'] > threshold]\n",
        "\n",
        "# Lọc bỏ các đánh giá có giá trị là -1\n",
        "ratings = ratings[ratings['rating'] != -1]\n",
        "\n",
        "# 2. Merge anime và ratings trước\n",
        "merged_data = ratings.merge(filtered_anime, on='anime_id', suffixes=['_user', ''])\n",
        "merged_data.rename(columns={'rating_user': 'user_rating'}, inplace=True)\n",
        "merged_data.rename(columns={'rating': 'average_rating'}, inplace=True)\n",
        "\n",
        "# 3. Lọc user có số lượng đánh giá ít hơn 500\n",
        "user_ratings_count = merged_data['user_id'].value_counts()\n",
        "valid_users = user_ratings_count[user_ratings_count >= 500].index\n",
        "filtered_merged_data = merged_data[merged_data['user_id'].isin(valid_users)]\n",
        "\n",
        "# Tính trung bình đánh giá của mỗi user\n",
        "user_mean_ratings = filtered_merged_data.groupby('user_id')['user_rating'].mean()\n",
        "\n",
        "# Trừ trung bình đánh giá của mỗi user\n",
        "filtered_merged_data['rating_normalized'] = filtered_merged_data.apply(\n",
        "    lambda row: row['user_rating'] - user_mean_ratings[row['user_id']], axis=1\n",
        ")\n",
        "\n",
        "# 4. Chọn các cột cần thiết\n",
        "final_data = filtered_merged_data[['anime_id', 'name', 'user_id', 'user_rating', 'rating_normalized', 'genre', 'average_rating', 'members']]\n",
        "print(final_data.head())\n",
        "print(\"Shape of final data:\", final_data.shape)\n",
        "\n",
        "\n"
      ]
    },
    {
      "cell_type": "code",
      "execution_count": null,
      "metadata": {
        "colab": {
          "base_uri": "https://localhost:8080/"
        },
        "id": "SqyiLJoa74jF",
        "outputId": "5133349c-a902-48a3-8911-f1a49ac03d99"
      },
      "outputs": [
        {
          "output_type": "stream",
          "name": "stdout",
          "text": [
            "<class 'pandas.core.frame.DataFrame'>\n",
            "Index: 409088 entries, 11653 to 5175300\n",
            "Data columns (total 8 columns):\n",
            " #   Column             Non-Null Count   Dtype  \n",
            "---  ------             --------------   -----  \n",
            " 0   anime_id           409088 non-null  int64  \n",
            " 1   name               409088 non-null  object \n",
            " 2   user_id            409088 non-null  int64  \n",
            " 3   user_rating        409088 non-null  int64  \n",
            " 4   rating_normalized  409088 non-null  float64\n",
            " 5   genre              409088 non-null  object \n",
            " 6   average_rating     409088 non-null  float64\n",
            " 7   members            409088 non-null  int64  \n",
            "dtypes: float64(2), int64(4), object(2)\n",
            "memory usage: 28.1+ MB\n",
            "None\n",
            "Số lượng user còn lại sau lọc: 627\n",
            "Số lượng anime còn lại sau lọc: 2890\n"
          ]
        }
      ],
      "source": [
        "# Hiển thị kết quả\n",
        "print(final_data.info())\n",
        "\n",
        "# Hiển thị số lượng user còn lại sau khi lọc\n",
        "num_users_left = final_data['user_id'].nunique()\n",
        "print(f\"Số lượng user còn lại sau lọc: {num_users_left}\")\n",
        "\n",
        "# Hiển thị số lượng anime còn lại sau khi lọc\n",
        "num_anime_left = final_data['anime_id'].nunique()\n",
        "print(f\"Số lượng anime còn lại sau lọc: {num_anime_left}\")\n"
      ]
    },
    {
      "cell_type": "code",
      "execution_count": null,
      "metadata": {
        "colab": {
          "base_uri": "https://localhost:8080/"
        },
        "id": "umQ7wPxx9HKe",
        "outputId": "ba41e942-5e41-4c55-92a8-a92c1348c515"
      },
      "outputs": [
        {
          "output_type": "stream",
          "name": "stdout",
          "text": [
            "       anime_id           name  user_id  user_rating  rating_normalized  \\\n",
            "11653         0   Cowboy Bebop        0            8           0.310709   \n",
            "11654         1         Trigun        0            8           0.310709   \n",
            "11655         2         Naruto        0            7          -0.689291   \n",
            "11656         3      Sunabouzu        0            6          -1.689291   \n",
            "11657         4  Trinity Blood        0            7          -0.689291   \n",
            "\n",
            "                                                   genre  average_rating  \\\n",
            "11653    Action, Adventure, Comedy, Drama, Sci-Fi, Space            8.82   \n",
            "11654                             Action, Comedy, Sci-Fi            8.32   \n",
            "11655  Action, Comedy, Martial Arts, Shounen, Super P...            7.81   \n",
            "11656  Action, Adventure, Comedy, Ecchi, Sci-Fi, Shounen            7.55   \n",
            "11657                      Action, Supernatural, Vampire            7.44   \n",
            "\n",
            "       members  \n",
            "11653   486824  \n",
            "11654   283069  \n",
            "11655   683297  \n",
            "11656    65516  \n",
            "11657   113791  \n",
            "Số lượng user sau reindex: 627\n",
            "Số lượng anime sau reindex: 2890\n",
            "Số lượng bản ghi trong tập train: 327270\n",
            "Số lượng bản ghi trong tập test: 81818\n",
            "Các cột của user_mean_ratings:\n",
            "7.689291101055807\n"
          ]
        },
        {
          "output_type": "stream",
          "name": "stderr",
          "text": [
            "<ipython-input-28-6ff45a2b0741>:9: SettingWithCopyWarning: \n",
            "A value is trying to be set on a copy of a slice from a DataFrame.\n",
            "Try using .loc[row_indexer,col_indexer] = value instead\n",
            "\n",
            "See the caveats in the documentation: https://pandas.pydata.org/pandas-docs/stable/user_guide/indexing.html#returning-a-view-versus-a-copy\n",
            "  final_data['user_id'] = final_data['user_id'].map(user_id_mapping)\n",
            "<ipython-input-28-6ff45a2b0741>:10: SettingWithCopyWarning: \n",
            "A value is trying to be set on a copy of a slice from a DataFrame.\n",
            "Try using .loc[row_indexer,col_indexer] = value instead\n",
            "\n",
            "See the caveats in the documentation: https://pandas.pydata.org/pandas-docs/stable/user_guide/indexing.html#returning-a-view-versus-a-copy\n",
            "  final_data['anime_id'] = final_data['anime_id'].map(anime_id_mapping)\n"
          ]
        }
      ],
      "source": [
        "from sklearn.model_selection import train_test_split\n",
        "\n",
        "# Tạo ánh xạ cho user_id\n",
        "user_id_mapping = {user_id: idx for idx, user_id in enumerate(final_data['user_id'].unique())}\n",
        "# Tạo ánh xạ cho anime_id\n",
        "anime_id_mapping = {anime_id: idx for idx, anime_id in enumerate(final_data['anime_id'].unique())}\n",
        "\n",
        "# Thay thế user_id và anime_id bằng giá trị được ánh xạ\n",
        "final_data['user_id'] = final_data['user_id'].map(user_id_mapping)\n",
        "final_data['anime_id'] = final_data['anime_id'].map(anime_id_mapping)\n",
        "\n",
        "# Hiển thị lại thông tin sau khi reindex\n",
        "print(final_data.head())\n",
        "\n",
        "# Kiểm tra số lượng user và anime sau khi ánh xạ\n",
        "num_users_reindexed = final_data['user_id'].nunique()\n",
        "num_anime_reindexed = final_data['anime_id'].nunique()\n",
        "print(f\"Số lượng user sau reindex: {num_users_reindexed}\")\n",
        "print(f\"Số lượng anime sau reindex: {num_anime_reindexed}\")\n",
        "\n",
        "# Chia lại dữ liệu thành train và test\n",
        "train_data, test_data = train_test_split(final_data, test_size=0.2, random_state=42)\n",
        "\n",
        "# Hiển thị kích thước của tập train và test\n",
        "print(f\"Số lượng bản ghi trong tập train: {len(train_data)}\")\n",
        "print(f\"Số lượng bản ghi trong tập test: {len(test_data)}\")\n",
        "\n",
        "user_mean_ratings = final_data.groupby('user_id')['user_rating'].mean()\n",
        "print(\"Các cột của user_mean_ratings:\")\n",
        "print(user_mean_ratings[0])\n",
        "\n",
        "\n"
      ]
    },
    {
      "cell_type": "markdown",
      "metadata": {
        "id": "abIPUQ1LBeq_"
      },
      "source": [
        "# Bài toán thực hành : Triển khai Hệ thống Gợi ý anime\n",
        "\n",
        "* Trong Notebook này, chúng ta sẽ triển khai và đánh giá một ***Hệ thống Gợi ý dựa trên Lọc Cộng tác với KNN***\n",
        "\n",
        "* Để ***triển khai và đánh giá Hệ thống Gợi ý này***, chúng ta sẽ thực hiện các bước sau:\n",
        "    1. [Đọc Dataset (Huấn luyện và Kiểm tra)](#M1)\n",
        "    2. [Tính toán Similarity](#M2)\n",
        "    3. [Tính toán K-láng giềng (K-Neighbors)](#M3)\n",
        "    4. [Tính toán Dự đoán (Predictions)](#M4)\n",
        "    5. [Tính toán Gợi ý ](#M5)\n",
        "    6. [Đánh giá Hệ thống Gợi ý (MAE)](#M6)\n",
        "    7. [Hệ thống Gợi ý và Đánh giá](#M7)\n",
        "\n"
      ]
    },
    {
      "cell_type": "markdown",
      "metadata": {
        "id": "gWU59JQynz7h"
      },
      "source": [
        "### Hàm đọc ma trận đánh giá\n",
        "Hàm này nhận đường dẫn đến file chứa dữ liệu đánh giá và trả về ma trận đánh giá."
      ]
    },
    {
      "cell_type": "code",
      "execution_count": null,
      "metadata": {
        "id": "bYePnUhrnz7h"
      },
      "outputs": [],
      "source": [
        "def read_ratings_matrix_from_df(df):\n",
        "    # Sử dụng numpy array thay vì list of lists\n",
        "    ratings = np.zeros((NUM_USERS, NUM_ITEMS))\n",
        "\n",
        "    # Sử dụng vectorized operations thay vì loop\n",
        "    df_grouped = df.groupby(['user_id', 'anime_id'])['rating_normalized'].first()\n",
        "    for (user, item), rating in df_grouped.items():\n",
        "        ratings[int(user)][int(item)] = rating\n",
        "\n",
        "    return ratings"
      ]
    },
    {
      "cell_type": "code",
      "execution_count": null,
      "metadata": {
        "id": "IDzckEYC_xdt"
      },
      "outputs": [],
      "source": [
        "import time\n",
        "\n",
        "def measure_time(task_name, func, *args, **kwargs):\n",
        "    start_time = time.time()  # Bắt đầu đo thời gian\n",
        "    result = func(*args, **kwargs)  # Thực thi đoạn code\n",
        "    end_time = time.time()  # Kết thúc đo thời gian\n",
        "    print(f\"Thời gian chạy cho {task_name}: {end_time - start_time:.2f} giây\")\n",
        "    return result  # Trả về kết quả\n"
      ]
    },
    {
      "cell_type": "markdown",
      "metadata": {
        "id": "9yJq74GInz7j"
      },
      "source": [
        "<hr>\n",
        "\n",
        "\n",
        "# <a name=\"M2\"> 2.- Tính toán *Độ tương tự*\n",
        "\n",
        "\n",
        "* Dưới đây là hàm mà dữ liệu đầu vào là một ma trận đánh giá và một phương pháp đo lường độ tương tự, sẽ trả về ma trận độ tương tự giữa mỗi cặp người dùng.\n",
        "\n",
        "\n",
        "* Chúng ta cũng triển khai các phương pháp đo lường độ tương tự:\n",
        "    + MSD\n",
        "    + Cosine\n",
        "    + JMSD"
      ]
    },
    {
      "cell_type": "code",
      "execution_count": null,
      "metadata": {
        "id": "uW17OCjEnz7j"
      },
      "outputs": [],
      "source": [
        "def calculate_similarities(ratings_matrix, similarity_metric):\n",
        "    # Khởi tạo ma trận numpy\n",
        "    similarities = np.full((NUM_USERS, NUM_USERS), float('-inf'))\n",
        "\n",
        "    # Tính toán theo batch để tránh quá tải bộ nhớ\n",
        "    batch_size = 100\n",
        "    for i in range(0, NUM_USERS, batch_size):\n",
        "        batch_end = min(i + batch_size, NUM_USERS)\n",
        "        if i % batch_size == 0:\n",
        "            print(f\"\\tĐang xử lý users {i} đến {batch_end}\")\n",
        "\n",
        "        for j in range(NUM_USERS):\n",
        "            if j != i:  # Không tính similarity với chính nó\n",
        "                similarities[i:batch_end, j] = [\n",
        "                    similarity_metric(ratings_matrix[u], ratings_matrix[j])\n",
        "                    for u in range(i, batch_end)\n",
        "                ]\n",
        "\n",
        "    return similarities\n",
        "\n",
        "def rating_average(ratings):\n",
        "\n",
        "    acc = 0\n",
        "    count = 0\n",
        "    for id_item in range(len(ratings)):\n",
        "        if ratings[id_item] != None:\n",
        "            acc += ratings[id_item]\n",
        "            count += 1\n",
        "    return acc / count\n",
        "\n",
        "\n",
        "def msd_similarity(u, v):\n",
        "    # Sử dụng numpy operations\n",
        "    mask = (u != 0) & (v != 0)  # Chỉ xét các rating khác 0\n",
        "    if not np.any(mask):\n",
        "        return None\n",
        "\n",
        "    diff = (u[mask] - v[mask]) / (MAX_RATING - MIN_RATING)\n",
        "    return 1 - np.mean(diff ** 2)\n",
        "\n",
        "def cosine_similarity(u, v):\n",
        "    # Sử dụng numpy operations\n",
        "    mask = (u != 0) & (v != 0)\n",
        "    if not np.any(mask):\n",
        "        return None\n",
        "\n",
        "    u_masked = u[mask]\n",
        "    v_masked = v[mask]\n",
        "\n",
        "    numerator = np.sum(u_masked * v_masked)\n",
        "    denominator = np.sqrt(np.sum(u_masked ** 2)) * np.sqrt(np.sum(v_masked ** 2))\n",
        "\n",
        "    return numerator / denominator if denominator != 0 else None\n",
        "\n",
        "def jmsd_similarity(u, v):\n",
        "    # Sử dụng numpy operations\n",
        "    u_nonzero = u != 0\n",
        "    v_nonzero = v != 0\n",
        "\n",
        "    intersection = np.sum(u_nonzero & v_nonzero)\n",
        "    union = np.sum(u_nonzero | v_nonzero)\n",
        "\n",
        "    if intersection == 0:\n",
        "        return None\n",
        "\n",
        "    jaccard = intersection / union\n",
        "    return jaccard * msd_similarity(u, v)"
      ]
    },
    {
      "cell_type": "markdown",
      "metadata": {
        "id": "LF0BylgCnz7k"
      },
      "source": [
        "<hr>\n",
        "\n",
        "\n",
        "# <a name=\"M3\"> 3.- Tính toán *K-Neighbors*\n",
        "\n",
        "\n",
        "* Dưới đây là hàm mà dữ liệu đầu vào là một ma trận độ tương tự giữa người dùng và một giá trị 'K' (số lượng láng giềng cần tính), sẽ trả về một ma trận \"NUM_USERS x K_NEIGHBORS\" chỉ ra láng giềng của mỗi người dùng:"
      ]
    },
    {
      "cell_type": "code",
      "execution_count": null,
      "metadata": {
        "id": "tVQz5RBfnz7k"
      },
      "outputs": [],
      "source": [
        "def calculate_neighbors(similarities_matrix, k_neighbors):\n",
        "    # Sử dụng numpy operations để tìm k neighbors\n",
        "    neighbors = np.zeros((NUM_USERS, k_neighbors), dtype=int)\n",
        "\n",
        "    # Tìm k neighbors cho mỗi user\n",
        "    for i in range(NUM_USERS):\n",
        "        # Loại bỏ similarity với chính nó\n",
        "        sim = similarities_matrix[i].copy()\n",
        "        sim[i] = float('-inf')\n",
        "\n",
        "        # Lấy k indices có similarity cao nhất\n",
        "        neighbors[i] = np.argpartition(sim, -k_neighbors)[-k_neighbors:]\n",
        "\n",
        "    return neighbors"
      ]
    },
    {
      "cell_type": "markdown",
      "metadata": {
        "id": "1nBW650Bnz7k"
      },
      "source": [
        "<hr>\n",
        "\n",
        "\n",
        "# <a name=\"M4\"> 4.- Tính toán *Dự đoán*\n",
        "\n",
        "\n",
        "* Dưới đây là một phương pháp tính toán dự đoán về số điểm mà người dùng sẽ đánh giá cho các mục với phương pháp tổng hợp \"Trung bình có trọng số\":"
      ]
    },
    {
      "cell_type": "code",
      "execution_count": null,
      "metadata": {
        "id": "HVtLwC4fnz7l"
      },
      "outputs": [],
      "source": [
        "def calculate_weighted_average_prediction(ratings_matrix, similarities_matrix, neighbors, user_id=None):\n",
        "\n",
        "    if user_id is not None:\n",
        "        # Tính prediction cho một user cụ thể\n",
        "        predictions = np.zeros(NUM_ITEMS)\n",
        "        user_ratings = ratings_matrix[user_id]\n",
        "        user_neighbors = neighbors[user_id]\n",
        "\n",
        "        for item in range(NUM_ITEMS):\n",
        "            if user_ratings[item] != 0:\n",
        "                predictions[item] = user_ratings[item]\n",
        "                continue\n",
        "\n",
        "            # Tính weighted average cho items chưa được rate\n",
        "            numerator = 0.0\n",
        "            denominator = 0.0\n",
        "\n",
        "            for neighbor in user_neighbors:\n",
        "                if ratings_matrix[neighbor][item] != 0:\n",
        "                    sim = similarities_matrix[user_id][neighbor]\n",
        "                    if sim is not None:\n",
        "                        numerator += sim * ratings_matrix[neighbor][item]\n",
        "                        denominator += abs(sim)\n",
        "\n",
        "            if denominator != 0:\n",
        "                predictions[item] = (numerator / denominator)\n",
        "            else:\n",
        "                predictions[item] = 0\n",
        "\n",
        "        return predictions\n",
        "\n",
        "    # Tính predictions cho tất cả users\n",
        "    predictions = np.zeros((NUM_USERS, NUM_ITEMS))\n",
        "\n",
        "    # Xử lý theo batch để tránh quá tải bộ nhớ\n",
        "    batch_size = 100\n",
        "    for i in range(0, NUM_USERS, batch_size):\n",
        "        batch_end = min(i + batch_size, NUM_USERS)\n",
        "        batch_predictions = np.array([\n",
        "            calculate_weighted_average_prediction(\n",
        "                ratings_matrix, similarities_matrix, neighbors, user_id=u\n",
        "            ) for u in range(i, batch_end)\n",
        "        ])\n",
        "        predictions[i:batch_end] = batch_predictions\n",
        "\n",
        "    return predictions"
      ]
    },
    {
      "cell_type": "markdown",
      "metadata": {
        "id": "0N7Prn-t6bFZ"
      },
      "source": [
        "<hr>\n",
        "\n",
        "\n",
        "# <a name=\"M6\"> 5.- Tính toán gợi ý\n",
        "\n",
        "\n",
        "* Dưới đây là một function mà dữ liệu đầu vào là ma trận dự đoán và id người dùng, sẽ trả về n_recommendations mục gợi ý cho người dùng:"
      ]
    },
    {
      "cell_type": "code",
      "execution_count": null,
      "metadata": {
        "id": "0z0OnElu6oDU"
      },
      "outputs": [],
      "source": [
        "def get_recommendations(predictions_matrix, ratings_matrix, user_id, n_recommendations):\n",
        "    # Get indices of unrated items for the user\n",
        "    unrated_items = [i for i in range(len(ratings_matrix[0])) if ratings_matrix[user_id][i] == 0]\n",
        "\n",
        "    # Sort unrated items by predicted rating, handling potential None values\n",
        "    recommendations = sorted(unrated_items, key=lambda x: predictions_matrix[x] if predictions_matrix[x] is not None else -float('inf'), reverse=True)\n",
        "\n",
        "    return recommendations[:n_recommendations]"
      ]
    },
    {
      "cell_type": "markdown",
      "metadata": {
        "id": "QPri_LbGnz7l"
      },
      "source": [
        "<hr>\n",
        "\n",
        "\n",
        "# <a name=\"M6\"> 6.- Đánh giá Hệ thống Gợi ý (MAE)\n",
        "\n",
        "\n",
        "* Dưới đây là một phương pháp mà dữ liệu đầu vào là ma trận đánh giá và ma trận dự đoán sẽ trả về MAE của Hệ thống Gợi ý:"
      ]
    },
    {
      "cell_type": "code",
      "execution_count": null,
      "metadata": {
        "id": "hc7Abyzonz7l"
      },
      "outputs": [],
      "source": [
        "def get_mae(ratings_matrix, predictions_matrix):\n",
        "    # Sử dụng numpy mask để tính MAE\n",
        "    mask = (ratings_matrix != 0) & (predictions_matrix != None)\n",
        "    if not np.any(mask):\n",
        "        return None\n",
        "\n",
        "    return np.mean(np.abs(ratings_matrix[mask] - predictions_matrix[mask]))"
      ]
    },
    {
      "cell_type": "code",
      "execution_count": null,
      "metadata": {
        "id": "rVvkolqO1a79"
      },
      "outputs": [],
      "source": [
        "def get_rmse(ratings_matrix, predictions_matrix):\n",
        "    # Tạo một mask để chỉ tính toán trên các phần tử không rỗng\n",
        "    mask = (ratings_matrix != 0) & (~np.isnan(predictions_matrix))\n",
        "    if not np.any(mask):\n",
        "        return None\n",
        "\n",
        "    squared_errors = (ratings_matrix[mask] - predictions_matrix[mask]) ** 2\n",
        "    rmse = np.sqrt(np.mean(squared_errors))\n",
        "    return rmse\n"
      ]
    },
    {
      "cell_type": "code",
      "execution_count": null,
      "metadata": {
        "id": "8_GJ-yBJ4Puk"
      },
      "outputs": [],
      "source": [
        "def get_mse(ratings_matrix, predictions_matrix):\n",
        "   mask = (ratings_matrix != 0) & (~np.isnan(predictions_matrix))\n",
        "   if not np.any(mask):\n",
        "        return None\n"
      ]
    },
    {
      "cell_type": "markdown",
      "metadata": {
        "id": "YGkZigw1nz7m"
      },
      "source": [
        "<hr>\n",
        "\n",
        "\n",
        "# <a name=\"M7\">7.- Hệ thống Gợi ý và Đánh giá\n",
        "\n",
        "\n",
        "* Dưới đây là \"Hệ thống Gợi ý\", trong đó:\n",
        "    + Chúng ta sẽ tính toán độ tương tự cho các phương pháp đo lường độ tương tự khác nhau\n",
        "    + Thực hiện dự đoán cho các số lượng láng giềng khác nhau\n",
        "    + Đánh giá cho mỗi thí nghiệm các tập dữ liệu huấn luyện và kiểm tra."
      ]
    },
    {
      "cell_type": "code",
      "execution_count": null,
      "metadata": {
        "id": "5zxzfi9w4SFP"
      },
      "outputs": [],
      "source": [
        "import math\n",
        "import numpy as np\n",
        "import pandas as pd\n",
        "\n",
        "# Số lượng người dùng và items\n",
        "NUM_USERS = final_data['user_id'].nunique()\n",
        "NUM_ITEMS = final_data['anime_id'].nunique()\n",
        "\n",
        "# Điểm tối đa và tối thiểu được đưa ra trong ma trận đánh giá\n",
        "MIN_RATING = 1\n",
        "MAX_RATING = 10\n",
        "\n",
        "#  Đường dẫn của các tập dữ liệu huấn luyện và kiểm tra\n",
        "\n",
        "# Đọc các tập dữ liệu Huấn luyện và Kiểm tra\n",
        "train_ratings = read_ratings_matrix_from_df(train_data)\n",
        "test_ratings = read_ratings_matrix_from_df(test_data)"
      ]
    },
    {
      "cell_type": "code",
      "execution_count": null,
      "metadata": {
        "colab": {
          "base_uri": "https://localhost:8080/"
        },
        "id": "kzY4iOpRnz7m",
        "scrolled": false,
        "outputId": "fe0fac10-c722-467c-9c26-14b34994c483"
      },
      "outputs": [
        {
          "output_type": "stream",
          "name": "stdout",
          "text": [
            "MSD: Tính toán độ tương tự\n",
            "\tĐang xử lý users 0 đến 100\n",
            "\tĐang xử lý users 100 đến 200\n",
            "\tĐang xử lý users 200 đến 300\n",
            "\tĐang xử lý users 300 đến 400\n",
            "\tĐang xử lý users 400 đến 500\n",
            "\tĐang xử lý users 500 đến 600\n",
            "\tĐang xử lý users 600 đến 627\n",
            "  25 Láng giềng\n",
            "    Test MAE: 0.8780\n",
            "  50 Láng giềng\n",
            "    Test MAE: 0.8621\n",
            "  100 Láng giềng\n",
            "    Test MAE: 0.8544\n",
            "  150 Láng giềng\n",
            "    Test MAE: 0.8533\n",
            "  200 Láng giềng\n",
            "    Test MAE: 0.8542\n",
            "  300 Láng giềng\n",
            "    Test MAE: 0.8579\n",
            "  400 Láng giềng\n",
            "    Test MAE: 0.8626\n",
            "  500 Láng giềng\n",
            "    Test MAE: 0.8675\n",
            "COSINE: Tính toán độ tương tự\n",
            "\tĐang xử lý users 0 đến 100\n",
            "\tĐang xử lý users 100 đến 200\n",
            "\tĐang xử lý users 200 đến 300\n",
            "\tĐang xử lý users 300 đến 400\n",
            "\tĐang xử lý users 400 đến 500\n",
            "\tĐang xử lý users 500 đến 600\n",
            "\tĐang xử lý users 600 đến 627\n",
            "  25 Láng giềng\n",
            "    Test MAE: 0.9074\n",
            "  50 Láng giềng\n",
            "    Test MAE: 0.8774\n",
            "  100 Láng giềng\n",
            "    Test MAE: 0.8603\n",
            "  150 Láng giềng\n",
            "    Test MAE: 0.8549\n",
            "  200 Láng giềng\n",
            "    Test MAE: 0.8539\n",
            "  300 Láng giềng\n",
            "    Test MAE: 0.8548\n",
            "  400 Láng giềng\n",
            "    Test MAE: 0.8565\n",
            "  500 Láng giềng\n",
            "    Test MAE: 0.8570\n",
            "JMSD: Tính toán độ tương tự\n",
            "\tĐang xử lý users 0 đến 100\n",
            "\tĐang xử lý users 100 đến 200\n",
            "\tĐang xử lý users 200 đến 300\n",
            "\tĐang xử lý users 300 đến 400\n",
            "\tĐang xử lý users 400 đến 500\n",
            "\tĐang xử lý users 500 đến 600\n",
            "\tĐang xử lý users 600 đến 627\n",
            "  25 Láng giềng\n",
            "    Test MAE: 0.8996\n",
            "  50 Láng giềng\n",
            "    Test MAE: 0.8825\n",
            "  100 Láng giềng\n",
            "    Test MAE: 0.8717\n",
            "  150 Láng giềng\n",
            "    Test MAE: 0.8690\n",
            "  200 Láng giềng\n",
            "    Test MAE: 0.8689\n",
            "  300 Láng giềng\n",
            "    Test MAE: 0.8693\n",
            "  400 Láng giềng\n",
            "    Test MAE: 0.8709\n",
            "  500 Láng giềng\n",
            "    Test MAE: 0.8721\n",
            "Thời gian chạy cho Chạy toàn bộ thí nghiệm mục 7: 3530.01 giây\n"
          ]
        }
      ],
      "source": [
        "from sklearn.metrics import mean_absolute_error\n",
        "import numpy as np\n",
        "\n",
        "def run_experiments():\n",
        "  SIMILARITIES_METRICS = [('MSD', msd_similarity),\n",
        "                          ('COSINE', cosine_similarity),\n",
        "                          ('JMSD', jmsd_similarity)]\n",
        "  K_NEIGHBORS = [25, 50, 100, 150, 200, 300, 400, 500]\n",
        "  experiments = []\n",
        "\n",
        "  for metric in SIMILARITIES_METRICS:\n",
        "      print(f\"{metric[0]}: Tính toán độ tương tự\")\n",
        "      similarities_matrix = calculate_similarities(ratings_matrix=train_ratings,\n",
        "                                                  similarity_metric=metric[1])\n",
        "\n",
        "      for k in K_NEIGHBORS:\n",
        "          print(f\"  {k} Láng giềng\")\n",
        "          neighbors_matrix = calculate_neighbors(k_neighbors=k,\n",
        "                                                similarities_matrix=similarities_matrix)\n",
        "          # Tính toán dự đoán\n",
        "          predictions = calculate_weighted_average_prediction(ratings_matrix=train_ratings,\n",
        "                                                              similarities_matrix=similarities_matrix,\n",
        "                                                              neighbors=neighbors_matrix)\n",
        "\n",
        "          # Tính toán MAE\n",
        "          mae_train = get_mae(ratings_matrix=train_ratings, predictions_matrix=predictions)\n",
        "          mae_test = get_mae(ratings_matrix=test_ratings, predictions_matrix=predictions)\n",
        "\n",
        "          # Thêm thí nghiệm vào danh sách\n",
        "          experiments.append([metric[0], k, mae_train, \"Train\"])\n",
        "          experiments.append([metric[0], k, mae_test, \"Test\"])\n",
        "          print(f\"    Test MAE: {mae_test:.4f}\")\n",
        "\n",
        "  return experiments\n",
        "\n",
        "\n",
        "\n",
        "experiments = measure_time(\"Chạy toàn bộ thí nghiệm mục 7\", run_experiments)"
      ]
    },
    {
      "cell_type": "markdown",
      "metadata": {
        "id": "d0BB_AXsnz7n"
      },
      "source": [
        "* Chuyển kết quả của các thí nghiệm thành DataFrame:"
      ]
    },
    {
      "cell_type": "code",
      "execution_count": null,
      "metadata": {
        "id": "VdXC-o4Tnz7n"
      },
      "outputs": [],
      "source": [
        "# Chuyển kết quả của các thí nghiệm thành DataFrame\n",
        "df_results = pd.DataFrame.from_records(experiments,\n",
        "                                       columns=['Metrics', 'K-Neighbors', 'MAE', 'Train/Test'])\n"
      ]
    },
    {
      "cell_type": "markdown",
      "metadata": {
        "id": "WQFCQGzLnz7o"
      },
      "source": [
        "* Hiển thị kết quả của các thí nghiệm với dữ liệu kiểm tra:\n"
      ]
    },
    {
      "cell_type": "code",
      "execution_count": null,
      "metadata": {
        "id": "khlpAM7Onz7o",
        "colab": {
          "base_uri": "https://localhost:8080/"
        },
        "outputId": "f24b2a2d-67b3-4b2e-8b28-ba6ea8be03bc"
      },
      "outputs": [
        {
          "output_type": "execute_result",
          "data": {
            "text/plain": [
              "                  MAE                    \n",
              "Metrics        COSINE      JMSD       MSD\n",
              "K-Neighbors                              \n",
              "25           0.907409  0.899628  0.877965\n",
              "50           0.877435  0.882516  0.862121\n",
              "100          0.860267  0.871749  0.854388\n",
              "150          0.854851  0.868979  0.853298\n",
              "200          0.853871  0.868930  0.854181\n",
              "300          0.854784  0.869254  0.857869\n",
              "400          0.856543  0.870897  0.862588\n",
              "500          0.857022  0.872071  0.867513"
            ],
            "text/html": [
              "\n",
              "  <div id=\"df-1212d693-bb32-490a-b936-1f1d069db325\" class=\"colab-df-container\">\n",
              "    <div>\n",
              "<style scoped>\n",
              "    .dataframe tbody tr th:only-of-type {\n",
              "        vertical-align: middle;\n",
              "    }\n",
              "\n",
              "    .dataframe tbody tr th {\n",
              "        vertical-align: top;\n",
              "    }\n",
              "\n",
              "    .dataframe thead tr th {\n",
              "        text-align: left;\n",
              "    }\n",
              "\n",
              "    .dataframe thead tr:last-of-type th {\n",
              "        text-align: right;\n",
              "    }\n",
              "</style>\n",
              "<table border=\"1\" class=\"dataframe\">\n",
              "  <thead>\n",
              "    <tr>\n",
              "      <th></th>\n",
              "      <th colspan=\"3\" halign=\"left\">MAE</th>\n",
              "    </tr>\n",
              "    <tr>\n",
              "      <th>Metrics</th>\n",
              "      <th>COSINE</th>\n",
              "      <th>JMSD</th>\n",
              "      <th>MSD</th>\n",
              "    </tr>\n",
              "    <tr>\n",
              "      <th>K-Neighbors</th>\n",
              "      <th></th>\n",
              "      <th></th>\n",
              "      <th></th>\n",
              "    </tr>\n",
              "  </thead>\n",
              "  <tbody>\n",
              "    <tr>\n",
              "      <th>25</th>\n",
              "      <td>0.907409</td>\n",
              "      <td>0.899628</td>\n",
              "      <td>0.877965</td>\n",
              "    </tr>\n",
              "    <tr>\n",
              "      <th>50</th>\n",
              "      <td>0.877435</td>\n",
              "      <td>0.882516</td>\n",
              "      <td>0.862121</td>\n",
              "    </tr>\n",
              "    <tr>\n",
              "      <th>100</th>\n",
              "      <td>0.860267</td>\n",
              "      <td>0.871749</td>\n",
              "      <td>0.854388</td>\n",
              "    </tr>\n",
              "    <tr>\n",
              "      <th>150</th>\n",
              "      <td>0.854851</td>\n",
              "      <td>0.868979</td>\n",
              "      <td>0.853298</td>\n",
              "    </tr>\n",
              "    <tr>\n",
              "      <th>200</th>\n",
              "      <td>0.853871</td>\n",
              "      <td>0.868930</td>\n",
              "      <td>0.854181</td>\n",
              "    </tr>\n",
              "    <tr>\n",
              "      <th>300</th>\n",
              "      <td>0.854784</td>\n",
              "      <td>0.869254</td>\n",
              "      <td>0.857869</td>\n",
              "    </tr>\n",
              "    <tr>\n",
              "      <th>400</th>\n",
              "      <td>0.856543</td>\n",
              "      <td>0.870897</td>\n",
              "      <td>0.862588</td>\n",
              "    </tr>\n",
              "    <tr>\n",
              "      <th>500</th>\n",
              "      <td>0.857022</td>\n",
              "      <td>0.872071</td>\n",
              "      <td>0.867513</td>\n",
              "    </tr>\n",
              "  </tbody>\n",
              "</table>\n",
              "</div>\n",
              "    <div class=\"colab-df-buttons\">\n",
              "\n",
              "  <div class=\"colab-df-container\">\n",
              "    <button class=\"colab-df-convert\" onclick=\"convertToInteractive('df-1212d693-bb32-490a-b936-1f1d069db325')\"\n",
              "            title=\"Convert this dataframe to an interactive table.\"\n",
              "            style=\"display:none;\">\n",
              "\n",
              "  <svg xmlns=\"http://www.w3.org/2000/svg\" height=\"24px\" viewBox=\"0 -960 960 960\">\n",
              "    <path d=\"M120-120v-720h720v720H120Zm60-500h600v-160H180v160Zm220 220h160v-160H400v160Zm0 220h160v-160H400v160ZM180-400h160v-160H180v160Zm440 0h160v-160H620v160ZM180-180h160v-160H180v160Zm440 0h160v-160H620v160Z\"/>\n",
              "  </svg>\n",
              "    </button>\n",
              "\n",
              "  <style>\n",
              "    .colab-df-container {\n",
              "      display:flex;\n",
              "      gap: 12px;\n",
              "    }\n",
              "\n",
              "    .colab-df-convert {\n",
              "      background-color: #E8F0FE;\n",
              "      border: none;\n",
              "      border-radius: 50%;\n",
              "      cursor: pointer;\n",
              "      display: none;\n",
              "      fill: #1967D2;\n",
              "      height: 32px;\n",
              "      padding: 0 0 0 0;\n",
              "      width: 32px;\n",
              "    }\n",
              "\n",
              "    .colab-df-convert:hover {\n",
              "      background-color: #E2EBFA;\n",
              "      box-shadow: 0px 1px 2px rgba(60, 64, 67, 0.3), 0px 1px 3px 1px rgba(60, 64, 67, 0.15);\n",
              "      fill: #174EA6;\n",
              "    }\n",
              "\n",
              "    .colab-df-buttons div {\n",
              "      margin-bottom: 4px;\n",
              "    }\n",
              "\n",
              "    [theme=dark] .colab-df-convert {\n",
              "      background-color: #3B4455;\n",
              "      fill: #D2E3FC;\n",
              "    }\n",
              "\n",
              "    [theme=dark] .colab-df-convert:hover {\n",
              "      background-color: #434B5C;\n",
              "      box-shadow: 0px 1px 3px 1px rgba(0, 0, 0, 0.15);\n",
              "      filter: drop-shadow(0px 1px 2px rgba(0, 0, 0, 0.3));\n",
              "      fill: #FFFFFF;\n",
              "    }\n",
              "  </style>\n",
              "\n",
              "    <script>\n",
              "      const buttonEl =\n",
              "        document.querySelector('#df-1212d693-bb32-490a-b936-1f1d069db325 button.colab-df-convert');\n",
              "      buttonEl.style.display =\n",
              "        google.colab.kernel.accessAllowed ? 'block' : 'none';\n",
              "\n",
              "      async function convertToInteractive(key) {\n",
              "        const element = document.querySelector('#df-1212d693-bb32-490a-b936-1f1d069db325');\n",
              "        const dataTable =\n",
              "          await google.colab.kernel.invokeFunction('convertToInteractive',\n",
              "                                                    [key], {});\n",
              "        if (!dataTable) return;\n",
              "\n",
              "        const docLinkHtml = 'Like what you see? Visit the ' +\n",
              "          '<a target=\"_blank\" href=https://colab.research.google.com/notebooks/data_table.ipynb>data table notebook</a>'\n",
              "          + ' to learn more about interactive tables.';\n",
              "        element.innerHTML = '';\n",
              "        dataTable['output_type'] = 'display_data';\n",
              "        await google.colab.output.renderOutput(dataTable, element);\n",
              "        const docLink = document.createElement('div');\n",
              "        docLink.innerHTML = docLinkHtml;\n",
              "        element.appendChild(docLink);\n",
              "      }\n",
              "    </script>\n",
              "  </div>\n",
              "\n",
              "\n",
              "<div id=\"df-501f7866-1a9e-4349-9efe-5f164d2e9254\">\n",
              "  <button class=\"colab-df-quickchart\" onclick=\"quickchart('df-501f7866-1a9e-4349-9efe-5f164d2e9254')\"\n",
              "            title=\"Suggest charts\"\n",
              "            style=\"display:none;\">\n",
              "\n",
              "<svg xmlns=\"http://www.w3.org/2000/svg\" height=\"24px\"viewBox=\"0 0 24 24\"\n",
              "     width=\"24px\">\n",
              "    <g>\n",
              "        <path d=\"M19 3H5c-1.1 0-2 .9-2 2v14c0 1.1.9 2 2 2h14c1.1 0 2-.9 2-2V5c0-1.1-.9-2-2-2zM9 17H7v-7h2v7zm4 0h-2V7h2v10zm4 0h-2v-4h2v4z\"/>\n",
              "    </g>\n",
              "</svg>\n",
              "  </button>\n",
              "\n",
              "<style>\n",
              "  .colab-df-quickchart {\n",
              "      --bg-color: #E8F0FE;\n",
              "      --fill-color: #1967D2;\n",
              "      --hover-bg-color: #E2EBFA;\n",
              "      --hover-fill-color: #174EA6;\n",
              "      --disabled-fill-color: #AAA;\n",
              "      --disabled-bg-color: #DDD;\n",
              "  }\n",
              "\n",
              "  [theme=dark] .colab-df-quickchart {\n",
              "      --bg-color: #3B4455;\n",
              "      --fill-color: #D2E3FC;\n",
              "      --hover-bg-color: #434B5C;\n",
              "      --hover-fill-color: #FFFFFF;\n",
              "      --disabled-bg-color: #3B4455;\n",
              "      --disabled-fill-color: #666;\n",
              "  }\n",
              "\n",
              "  .colab-df-quickchart {\n",
              "    background-color: var(--bg-color);\n",
              "    border: none;\n",
              "    border-radius: 50%;\n",
              "    cursor: pointer;\n",
              "    display: none;\n",
              "    fill: var(--fill-color);\n",
              "    height: 32px;\n",
              "    padding: 0;\n",
              "    width: 32px;\n",
              "  }\n",
              "\n",
              "  .colab-df-quickchart:hover {\n",
              "    background-color: var(--hover-bg-color);\n",
              "    box-shadow: 0 1px 2px rgba(60, 64, 67, 0.3), 0 1px 3px 1px rgba(60, 64, 67, 0.15);\n",
              "    fill: var(--button-hover-fill-color);\n",
              "  }\n",
              "\n",
              "  .colab-df-quickchart-complete:disabled,\n",
              "  .colab-df-quickchart-complete:disabled:hover {\n",
              "    background-color: var(--disabled-bg-color);\n",
              "    fill: var(--disabled-fill-color);\n",
              "    box-shadow: none;\n",
              "  }\n",
              "\n",
              "  .colab-df-spinner {\n",
              "    border: 2px solid var(--fill-color);\n",
              "    border-color: transparent;\n",
              "    border-bottom-color: var(--fill-color);\n",
              "    animation:\n",
              "      spin 1s steps(1) infinite;\n",
              "  }\n",
              "\n",
              "  @keyframes spin {\n",
              "    0% {\n",
              "      border-color: transparent;\n",
              "      border-bottom-color: var(--fill-color);\n",
              "      border-left-color: var(--fill-color);\n",
              "    }\n",
              "    20% {\n",
              "      border-color: transparent;\n",
              "      border-left-color: var(--fill-color);\n",
              "      border-top-color: var(--fill-color);\n",
              "    }\n",
              "    30% {\n",
              "      border-color: transparent;\n",
              "      border-left-color: var(--fill-color);\n",
              "      border-top-color: var(--fill-color);\n",
              "      border-right-color: var(--fill-color);\n",
              "    }\n",
              "    40% {\n",
              "      border-color: transparent;\n",
              "      border-right-color: var(--fill-color);\n",
              "      border-top-color: var(--fill-color);\n",
              "    }\n",
              "    60% {\n",
              "      border-color: transparent;\n",
              "      border-right-color: var(--fill-color);\n",
              "    }\n",
              "    80% {\n",
              "      border-color: transparent;\n",
              "      border-right-color: var(--fill-color);\n",
              "      border-bottom-color: var(--fill-color);\n",
              "    }\n",
              "    90% {\n",
              "      border-color: transparent;\n",
              "      border-bottom-color: var(--fill-color);\n",
              "    }\n",
              "  }\n",
              "</style>\n",
              "\n",
              "  <script>\n",
              "    async function quickchart(key) {\n",
              "      const quickchartButtonEl =\n",
              "        document.querySelector('#' + key + ' button');\n",
              "      quickchartButtonEl.disabled = true;  // To prevent multiple clicks.\n",
              "      quickchartButtonEl.classList.add('colab-df-spinner');\n",
              "      try {\n",
              "        const charts = await google.colab.kernel.invokeFunction(\n",
              "            'suggestCharts', [key], {});\n",
              "      } catch (error) {\n",
              "        console.error('Error during call to suggestCharts:', error);\n",
              "      }\n",
              "      quickchartButtonEl.classList.remove('colab-df-spinner');\n",
              "      quickchartButtonEl.classList.add('colab-df-quickchart-complete');\n",
              "    }\n",
              "    (() => {\n",
              "      let quickchartButtonEl =\n",
              "        document.querySelector('#df-501f7866-1a9e-4349-9efe-5f164d2e9254 button');\n",
              "      quickchartButtonEl.style.display =\n",
              "        google.colab.kernel.accessAllowed ? 'block' : 'none';\n",
              "    })();\n",
              "  </script>\n",
              "</div>\n",
              "\n",
              "    </div>\n",
              "  </div>\n"
            ],
            "application/vnd.google.colaboratory.intrinsic+json": {
              "type": "dataframe",
              "summary": "{\n  \"name\": \"               columns=['Metrics'])\",\n  \"rows\": 8,\n  \"fields\": [\n    {\n      \"column\": [\n        \"K-Neighbors\",\n        \"\"\n      ],\n      \"properties\": {\n        \"dtype\": \"number\",\n        \"std\": 170,\n        \"min\": 25,\n        \"max\": 500,\n        \"num_unique_values\": 8,\n        \"samples\": [\n          50,\n          300,\n          25\n        ],\n        \"semantic_type\": \"\",\n        \"description\": \"\"\n      }\n    },\n    {\n      \"column\": [\n        \"MAE\",\n        \"COSINE\"\n      ],\n      \"properties\": {\n        \"dtype\": \"number\",\n        \"std\": 0.018675075244116043,\n        \"min\": 0.8538712072661827,\n        \"max\": 0.9074086602097908,\n        \"num_unique_values\": 8,\n        \"samples\": [\n          0.877434670443729,\n          0.8547842321258484,\n          0.9074086602097908\n        ],\n        \"semantic_type\": \"\",\n        \"description\": \"\"\n      }\n    },\n    {\n      \"column\": [\n        \"MAE\",\n        \"JMSD\"\n      ],\n      \"properties\": {\n        \"dtype\": \"number\",\n        \"std\": 0.01071117184238921,\n        \"min\": 0.8689303053379627,\n        \"max\": 0.8996281674422191,\n        \"num_unique_values\": 8,\n        \"samples\": [\n          0.8825155790701263,\n          0.8692535392928932,\n          0.8996281674422191\n        ],\n        \"semantic_type\": \"\",\n        \"description\": \"\"\n      }\n    },\n    {\n      \"column\": [\n        \"MAE\",\n        \"MSD\"\n      ],\n      \"properties\": {\n        \"dtype\": \"number\",\n        \"std\": 0.008391145903014012,\n        \"min\": 0.8532983303480652,\n        \"max\": 0.8779651795734601,\n        \"num_unique_values\": 8,\n        \"samples\": [\n          0.862120705882338,\n          0.857869122389155,\n          0.8779651795734601\n        ],\n        \"semantic_type\": \"\",\n        \"description\": \"\"\n      }\n    }\n  ]\n}"
            }
          },
          "metadata": {},
          "execution_count": 17
        }
      ],
      "source": [
        "pd.pivot_table(df_results[df_results['Train/Test']=='Test'],\n",
        "               values=['MAE'],\n",
        "               index=['K-Neighbors'],\n",
        "               columns=['Metrics'])"
      ]
    },
    {
      "cell_type": "markdown",
      "metadata": {
        "id": "AA2fp-WPnz7o"
      },
      "source": [
        "* Vẽ kết quả"
      ]
    },
    {
      "cell_type": "code",
      "execution_count": null,
      "metadata": {
        "id": "OFpCSOxHnz7p",
        "colab": {
          "base_uri": "https://localhost:8080/"
        },
        "outputId": "ba614033-2eb1-4720-a343-e97d67a7f5c3"
      },
      "outputs": [
        {
          "output_type": "display_data",
          "data": {
            "text/plain": [
              "<Figure size 1000x600 with 1 Axes>"
            ],
            "image/png": "[encoded data removed]"
          },
          "metadata": {}
        }
      ],
      "source": [
        "import seaborn as sns\n",
        "import matplotlib.pyplot as plt\n",
        "\n",
        "# Tạo một figure\n",
        "fig, ax = plt.subplots(figsize=(10, 6))\n",
        "\n",
        "# Vẽ MAE với dữ liệu Kiểm tra\n",
        "sns.lineplot(x=\"K-Neighbors\", y=\"MAE\", hue=\"Metrics\", style=\"Metrics\", data=df_results[df_results['Train/Test'] == 'Test'], ax=ax)\n",
        "\n",
        "# Thiết lập tiêu đề và nhãn trục\n",
        "ax.set_title('MAE vs K-Neighbors (Test)')\n",
        "ax.set_xticks(sorted(df_results['K-Neighbors'].unique()))  # Cập nhật nhãn trục x\n",
        "\n",
        "# Hiển thị đồ thị\n",
        "plt.tight_layout()  # Đảm bảo các đồ thị không bị chồng lên nhau\n",
        "plt.show()\n"
      ]
    },
    {
      "cell_type": "markdown",
      "metadata": {
        "id": "3LaV9eNeKwPE"
      },
      "source": [
        "<hr>\n",
        "\n",
        "\n",
        "# <a name=\"M8\">8.- Hệ thống Gợi ý phim cho người dùng\n",
        "\n",
        "\n",
        "* Dưới đây là \"Hệ thống Gợi ý\" phim cho người dùng"
      ]
    },
    {
      "cell_type": "markdown",
      "metadata": {
        "id": "3_yXDWJbnz7p"
      },
      "source": [
        "* Gợi ý phim cho người dùng thứ 100 với 10 mục:\n",
        "\n"
      ]
    },
    {
      "cell_type": "code",
      "execution_count": null,
      "metadata": {
        "id": "emSEQBqoBGWW"
      },
      "outputs": [],
      "source": [
        "def print_recommendations(user_mapping_id, similarities_matrix, neighbors_matrix):\n",
        "    user_id = user_id_mapping.get(user_mapping_id)\n",
        "    if user_id is None:\n",
        "        print(f\"Không tìm thấy người dùng với id {user_mapping_id}\")\n",
        "        return\n",
        "\n",
        "    # Tính ma trận dự đoán\n",
        "    predictions_matrix = calculate_weighted_average_prediction(\n",
        "        ratings_matrix=train_ratings,\n",
        "        similarities_matrix=similarities_matrix,\n",
        "        neighbors=neighbors_matrix,\n",
        "        user_id=user_id\n",
        "    )\n",
        "\n",
        "    # Lấy danh sách gợi ý\n",
        "    recommendations = get_recommendations(\n",
        "        predictions_matrix=predictions_matrix,\n",
        "        ratings_matrix=train_ratings,\n",
        "        user_id=user_id,\n",
        "        n_recommendations=10\n",
        "    )\n",
        "\n",
        "    # In tiêu đề bảng\n",
        "    print(f\"\\n{'='*90}\")\n",
        "    print(f\"Gợi ý phim cho người dùng {user_mapping_id}:\")\n",
        "    print(f\"{'STT':<5} {'ID':<10} {'Tên phim':<30} {'Thể loại':<20} {'Điểm TB':<10} {'Dự đoán':<10} {'Thành viên':<10}\")\n",
        "    print(f\"{'-'*90}\")\n",
        "\n",
        "    # Duyệt qua các gợi ý và in ra dưới dạng bảng\n",
        "    for i, item in enumerate(recommendations, start=1):\n",
        "        prediction = predictions_matrix[item]\n",
        "        movie_row = final_data[final_data['anime_id'] == item]\n",
        "        movie_name = movie_row['name'].values[0]\n",
        "        movie_genre = movie_row['genre'].values[0]\n",
        "        average_rating = movie_row['average_rating'].values[0]\n",
        "        members = movie_row['members'].values[0]\n",
        "\n",
        "        if prediction is not None:\n",
        "            predicted_score = prediction + user_mean_ratings[user_id]\n",
        "            print(f\"{i:<5} {item:<10} {movie_name[:30]:<30} {movie_genre[:20]:<20} {average_rating:<10.2f} {predicted_score:<10.2f} {members:<10}\")\n",
        "        else:\n",
        "            print(f\"{i:<5} {item:<10} {movie_name[:30]:<30} {movie_genre[:20]:<20} {average_rating:<10.2f} {'N/A':<10} {members:<10}\")\n",
        "\n",
        "    print(f\"{'='*90}\\n\")\n"
      ]
    },
    {
      "cell_type": "code",
      "execution_count": null,
      "metadata": {
        "id": "1_vLi3kk6vcv",
        "colab": {
          "base_uri": "https://localhost:8080/"
        },
        "outputId": "e307f091-dd5b-4dee-90aa-b407108d5171"
      },
      "outputs": [
        {
          "output_type": "stream",
          "name": "stdout",
          "text": [
            "\tĐang xử lý users 0 đến 100\n",
            "\tĐang xử lý users 100 đến 200\n",
            "\tĐang xử lý users 200 đến 300\n",
            "\tĐang xử lý users 300 đến 400\n",
            "\tĐang xử lý users 400 đến 500\n",
            "\tĐang xử lý users 500 đến 600\n",
            "\tĐang xử lý users 600 đến 627\n",
            "\n",
            "==========================================================================================\n",
            "Gợi ý phim cho người dùng 3569:\n",
            "STT   ID         Tên phim                       Thể loại             Điểm TB    Dự đoán    Thành viên\n",
            "------------------------------------------------------------------------------------------\n",
            "1     1841       Dr. Slump: Arale-chan          Comedy, Sci-Fi, Shou 7.28       9.68       5330      \n",
            "2     1142       Dr. Slump                      Comedy, Sci-Fi, Shou 7.11       9.11       8735      \n",
            "3     2363       Nijiiro Hotaru: Eien no Natsuy Fantasy, Romance, Sl 7.12       8.87       3523      \n",
            "4     2406       Honoo no Mirage                Action, Drama, Histo 6.74       8.87       12835     \n",
            "5     2491       Sayonara Ginga Tetsudou 999: A Adventure, Drama, Sc 7.45       8.87       4199      \n",
            "6     373        Hunter x Hunter (2011)         Action, Adventure, S 9.13       8.77       425855    \n",
            "7     2812       1000-nen Joou: Queen Millennia Adventure, Drama, Fa 7.02       8.72       2078      \n",
            "8     2190       Ashita no Joe 2                Drama, Sports        8.48       8.68       6259      \n",
            "9     1645       Kaguya-hime no Monogatari      Fantasy, Historical  8.37       8.64       45547     \n",
            "10    2756       Waga Seishun no Arcadia: Mugen Action, Adventure, D 7.56       8.58       2587      \n",
            "==========================================================================================\n",
            "\n",
            "Thời gian chạy cho Thời gian chạy mô hình Colab: 20.82 giây\n"
          ]
        }
      ],
      "source": [
        "\n",
        "def run_experiments():\n",
        "  # Tính toán độ tương tự và dự đoán\n",
        "  similarities_matrix = calculate_similarities(ratings_matrix=train_ratings,\n",
        "                                              similarity_metric=cosine_similarity)\n",
        "  neighbors_matrix = calculate_neighbors(k_neighbors=50,\n",
        "                                          similarities_matrix=similarities_matrix)\n",
        "  print_recommendations(user_mapping_id=3569, similarities_matrix=similarities_matrix, neighbors_matrix=neighbors_matrix)\n",
        "\n",
        "measure_time(\"Thời gian chạy mô hình Colab\", run_experiments)\n"
      ]
    }
  ],
  "metadata": {
    "accelerator": "TPU",
    "colab": {
      "collapsed_sections": [
        "9yJq74GInz7j",
        "1nBW650Bnz7k",
        "QPri_LbGnz7l"
      ],
      "gpuType": "V28",
      "provenance": [],
      "include_colab_link": true
    },
    "kernelspec": {
      "display_name": "Python 3",
      "name": "python3"
    },
    "language_info": {
      "codemirror_mode": {
        "name": "ipython",
        "version": 3
      },
      "file_extension": ".py",
      "mimetype": "text/x-python",
      "name": "python",
      "nbconvert_exporter": "python",
      "pygments_lexer": "ipython3",
      "version": "3.8.8"
    }
  },
  "nbformat": 4,
  "nbformat_minor": 0
}